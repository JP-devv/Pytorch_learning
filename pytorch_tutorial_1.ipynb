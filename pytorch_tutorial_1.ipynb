{
 "cells": [
  {
   "cell_type": "code",
   "execution_count": 3,
   "metadata": {},
   "outputs": [],
   "source": [
    "import torch\n",
    "import numpy as np"
   ]
  },
  {
   "cell_type": "code",
   "execution_count": 5,
   "id": "9fb91175",
   "metadata": {},
   "outputs": [
    {
     "name": "stdout",
     "output_type": "stream",
     "text": [
      "torch.Size([2, 2])\n",
      "torch.float64\n",
      "tensor([2.5000, 0.1000])\n"
     ]
    }
   ],
   "source": [
    "y = torch.empty(2, 2)\n",
    "x = torch.ones(2, 2, dtype=torch.float64)\n",
    "z = torch.tensor([2.5, 0.1])\n",
    "print(x.size())\n",
    "print(x.dtype)\n",
    "print(z)"
   ]
  },
  {
   "cell_type": "code",
   "execution_count": 6,
   "id": "9e0f8ec9",
   "metadata": {},
   "outputs": [
    {
     "name": "stdout",
     "output_type": "stream",
     "text": [
      "tensor([[0.5299, 0.6283],\n",
      "        [0.0881, 0.6827]])\n",
      "tensor([[0.0866, 0.8910],\n",
      "        [0.7141, 0.2474]])\n"
     ]
    }
   ],
   "source": [
    "# create two tensors of random values\n",
    "x = torch.rand(2, 2)\n",
    "y = torch.rand(2, 2)\n",
    "print(x)\n",
    "print(y)"
   ]
  },
  {
   "cell_type": "code",
   "execution_count": 7,
   "id": "b4981298",
   "metadata": {},
   "outputs": [
    {
     "name": "stdout",
     "output_type": "stream",
     "text": [
      "tensor([[0.0459, 0.5598],\n",
      "        [0.0629, 0.1689]])\n"
     ]
    }
   ],
   "source": [
    "# these both are the same\n",
    "z = x + y\n",
    "z = torch.add(x, y)\n",
    "z = torch.sub(x, y)\n",
    "z = x * y\n",
    "print(z)"
   ]
  },
  {
   "cell_type": "code",
   "execution_count": 8,
   "id": "227fdd83",
   "metadata": {},
   "outputs": [
    {
     "name": "stdout",
     "output_type": "stream",
     "text": [
      "tensor([0.2586, 0.5077, 0.1952, 0.2341, 0.1616])\n",
      "0.5076724290847778\n"
     ]
    }
   ],
   "source": [
    "x = torch.rand(5, 3)\n",
    "print(x[:, 1])\n",
    "print(x[1, 1].item())"
   ]
  },
  {
   "cell_type": "code",
   "execution_count": 9,
   "id": "f3d9a10c",
   "metadata": {},
   "outputs": [
    {
     "name": "stdout",
     "output_type": "stream",
     "text": [
      "tensor([[0.6623, 0.4771, 0.0654, 0.0994],\n",
      "        [0.0048, 0.4196, 0.9810, 0.2868],\n",
      "        [0.8094, 0.5075, 0.4875, 0.1556],\n",
      "        [0.1190, 0.9842, 0.8954, 0.5550]])\n",
      "tensor([[0.6623, 0.4771],\n",
      "        [0.0654, 0.0994],\n",
      "        [0.0048, 0.4196],\n",
      "        [0.9810, 0.2868],\n",
      "        [0.8094, 0.5075],\n",
      "        [0.4875, 0.1556],\n",
      "        [0.1190, 0.9842],\n",
      "        [0.8954, 0.5550]])\n",
      "torch.Size([8, 2])\n"
     ]
    }
   ],
   "source": [
    "x = torch.rand(4, 4)\n",
    "print(x)\n",
    "# reshape into different dimension, -1 will infer\n",
    "y = x.view(8, -1)\n",
    "print(y)\n",
    "print(y.size())"
   ]
  },
  {
   "cell_type": "code",
   "execution_count": 10,
   "id": "7381a3bc",
   "metadata": {},
   "outputs": [
    {
     "name": "stdout",
     "output_type": "stream",
     "text": [
      "tensor([1., 1., 1., 1., 1.])\n",
      "[1. 1. 1. 1. 1.]\n",
      "<class 'numpy.ndarray'>\n"
     ]
    }
   ],
   "source": [
    "# convert numpy to torch tensor, the memory are shared\n",
    "a = torch.ones(5)\n",
    "print(a)\n",
    "b = a.numpy()\n",
    "print(b)\n",
    "print(type(b))"
   ]
  },
  {
   "cell_type": "code",
   "execution_count": 11,
   "id": "e65f1cc2",
   "metadata": {},
   "outputs": [
    {
     "name": "stdout",
     "output_type": "stream",
     "text": [
      "[2. 2. 2. 2. 2.]\n",
      "tensor([2., 2., 2., 2., 2.], dtype=torch.float64)\n"
     ]
    }
   ],
   "source": [
    "# opposite operation, memory is shared. If tensor is on GPU\n",
    "a = np.ones(5)\n",
    "b = torch.from_numpy(a)\n",
    "\n",
    "a += 1\n",
    "print(a)\n",
    "print(b)"
   ]
  },
  {
   "cell_type": "code",
   "execution_count": 18,
   "id": "d485a658",
   "metadata": {},
   "outputs": [
    {
     "name": "stdout",
     "output_type": "stream",
     "text": [
      "True\n"
     ]
    }
   ],
   "source": [
    "# Check for apple multi process service (apple metal)\n",
    "print(torch.has_mps)\n",
    "# set device to mps if available\n",
    "torch.device = \"mps\""
   ]
  },
  {
   "cell_type": "code",
   "execution_count": 23,
   "id": "8d7d4960",
   "metadata": {},
   "outputs": [],
   "source": [
    "x = torch.ones(5, device=\"mps\")\n",
    "y = torch.ones(5, device=\"mps\")\n",
    "# operation performed on GPU which is must faster\n",
    "z = x + y"
   ]
  },
  {
   "cell_type": "code",
   "execution_count": null,
   "id": "9a64b7bc",
   "metadata": {},
   "outputs": [],
   "source": [
    "# Numpy will have errors since it only deals with CPU tensors!!!\n",
    "# you cannot convert a GPU tensor back to numpy\n",
    "\n",
    "z = z.to(\"cpu\") # back to cpu\n",
    "\n",
    "# alot of times when a tensor is created, then you see the argument\n",
    "# requires_grad=True, this means that it will later calculate the gradience\n",
    "# which means you want to optimize"
   ]
  }
 ],
 "metadata": {
  "kernelspec": {
   "display_name": "tensorflow",
   "language": "python",
   "name": "python3"
  },
  "language_info": {
   "codemirror_mode": {
    "name": "ipython",
    "version": 3
   },
   "file_extension": ".py",
   "mimetype": "text/x-python",
   "name": "python",
   "nbconvert_exporter": "python",
   "pygments_lexer": "ipython3",
   "version": "3.10.9"
  }
 },
 "nbformat": 4,
 "nbformat_minor": 5
}
